{
 "cells": [
  {
   "cell_type": "code",
   "execution_count": 1,
   "metadata": {
    "pycharm": {
     "name": "#%%\n"
    }
   },
   "outputs": [],
   "source": [
    "import pandas as pd\n",
    "from sklearn.feature_extraction.text import CountVectorizer"
   ]
  },
  {
   "cell_type": "code",
   "execution_count": null,
   "outputs": [],
   "source": [
    "data = [\n",
    "        \"Most shark attacks occur about 10 feet from the beach since that is where the people are\",\n",
    "       \"the efficience with which he paired the socks in the drawer was quite admirable\",\n",
    "       \"carol drank the blood as if she were a vampire\",\n",
    "       \"giving directions that the mountain are to the west only works when you can see them\",\n",
    "       \"the sign said there was road work ahead so he decided to speed up\",\n",
    "       \"the gruff old man sat in the back of the bait shop grumbling to himsel as he scooped out a hanful of worms\"\n",
    "       ]"
   ],
   "metadata": {
    "collapsed": false,
    "pycharm": {
     "name": "#%%\n"
    }
   }
  },
  {
   "cell_type": "code",
   "execution_count": null,
   "outputs": [],
   "source": [
    "count_vec = CountVectorizer()"
   ],
   "metadata": {
    "collapsed": false,
    "pycharm": {
     "name": "#%%\n"
    }
   }
  },
  {
   "cell_type": "code",
   "execution_count": null,
   "outputs": [],
   "source": [
    "countvec_fit = count_vec.fit_transform(data)"
   ],
   "metadata": {
    "collapsed": false,
    "pycharm": {
     "name": "#%%\n"
    }
   }
  },
  {
   "cell_type": "code",
   "execution_count": null,
   "outputs": [],
   "source": [
    "bag_of_words = pd.DataFrame(countvec_fit.toarray(), columns = count_vec.get_feature_names_out())"
   ],
   "metadata": {
    "collapsed": false,
    "pycharm": {
     "name": "#%%\n"
    }
   }
  },
  {
   "cell_type": "code",
   "execution_count": null,
   "outputs": [],
   "source": [
    "print(bag_of_words)"
   ],
   "metadata": {
    "collapsed": false,
    "pycharm": {
     "name": "#%%\n"
    }
   }
  },
  {
   "cell_type": "code",
   "execution_count": null,
   "outputs": [],
   "source": [
    "# TFIDF = Term Frequency Inverse Document Frequency\n",
    "#Term Frequency is the number of times a word appears in a document\n",
    "#It's calculated using tf term which is the number of times a word appears in a piece of text divided by the total number of words\n",
    "#Inverse Document Frequency is the measure of the importance of each term in each document\n",
    "#It's calculated using idf term...the log of the total number of documents divided the number of rows that contain that specific term\n",
    "#Once calculated , common terms will have the lowest score"
   ],
   "metadata": {
    "collapsed": false,
    "pycharm": {
     "name": "#%%\n"
    }
   }
  },
  {
   "cell_type": "code",
   "execution_count": null,
   "outputs": [],
   "source": [
    "from sklearn.feature_extraction.text import TfidfVectorizer"
   ],
   "metadata": {
    "collapsed": false,
    "pycharm": {
     "name": "#%%\n"
    }
   }
  },
  {
   "cell_type": "code",
   "execution_count": null,
   "outputs": [],
   "source": [
    "tfidfvec = TfidfVectorizer()"
   ],
   "metadata": {
    "collapsed": false,
    "pycharm": {
     "name": "#%%\n"
    }
   }
  },
  {
   "cell_type": "code",
   "execution_count": null,
   "outputs": [],
   "source": [
    "tfidfvec_fit = tfidfvec.fit_transform(data)"
   ],
   "metadata": {
    "collapsed": false,
    "pycharm": {
     "name": "#%%\n"
    }
   }
  },
  {
   "cell_type": "code",
   "execution_count": null,
   "outputs": [],
   "source": [
    "tfidf_bag = pd.DataFrame(tfidfvec_fit.toarray(), columns= tfidfvec.get_feature_names_out())"
   ],
   "metadata": {
    "collapsed": false,
    "pycharm": {
     "name": "#%%\n"
    }
   }
  },
  {
   "cell_type": "code",
   "execution_count": null,
   "outputs": [],
   "source": [
    "print(tfidf_bag)"
   ],
   "metadata": {
    "collapsed": false,
    "pycharm": {
     "name": "#%%\n"
    }
   }
  },
  {
   "cell_type": "code",
   "execution_count": 2,
   "metadata": {
    "pycharm": {
     "name": "#%%\n"
    }
   },
   "outputs": [],
   "source": [
    "data = [\n",
    "        \"Most shark attacks occur about 10 feet from the beach since that is where the people are\",\n",
    "       \"the efficience with which he paired the socks in the drawer was quite admirable\",\n",
    "       \"carol drank the blood as if she were a vampire\",\n",
    "       \"giving directions that the mountain are to the west only works when you can see them\",\n",
    "       \"the sign said there was road work ahead so he decided to speed up\",\n",
    "       \"the gruff old man sat in the back of the bait shop grumbling to himsel as he scooped out a hanful of worms\"\n",
    "       ]"
   ]
  },
  {
   "cell_type": "code",
   "execution_count": 4,
   "metadata": {
    "pycharm": {
     "name": "#%%\n"
    }
   },
   "outputs": [],
   "source": [
    "count_vec = CountVectorizer()"
   ]
  },
  {
   "cell_type": "code",
   "execution_count": 7,
   "metadata": {
    "pycharm": {
     "name": "#%%\n"
    }
   },
   "outputs": [],
   "source": [
    "countvec_fit = count_vec.fit_transform(data)"
   ]
  },
  {
   "cell_type": "code",
   "execution_count": 8,
   "metadata": {
    "pycharm": {
     "name": "#%%\n"
    }
   },
   "outputs": [],
   "source": [
    "bag_of_words = pd.DataFrame(countvec_fit.toarray(), columns = count_vec.get_feature_names_out())"
   ]
  },
  {
   "cell_type": "code",
   "execution_count": 9,
   "metadata": {
    "pycharm": {
     "name": "#%%\n"
    }
   },
   "outputs": [
    {
     "name": "stdout",
     "output_type": "stream",
     "text": [
      "   10  about  admirable  ahead  are  as  attacks  back  bait  beach  ...  \\\n",
      "0   1      1          0      0    1   0        1     0     0      1  ...   \n",
      "1   0      0          1      0    0   0        0     0     0      0  ...   \n",
      "2   0      0          0      0    0   1        0     0     0      0  ...   \n",
      "3   0      0          0      0    1   0        0     0     0      0  ...   \n",
      "4   0      0          0      1    0   0        0     0     0      0  ...   \n",
      "5   0      0          0      0    0   1        0     1     1      0  ...   \n",
      "\n",
      "   were  west  when  where  which  with  work  works  worms  you  \n",
      "0     0     0     0      1      0     0     0      0      0    0  \n",
      "1     0     0     0      0      1     1     0      0      0    0  \n",
      "2     1     0     0      0      0     0     0      0      0    0  \n",
      "3     0     1     1      0      0     0     0      1      0    1  \n",
      "4     0     0     0      0      0     0     1      0      0    0  \n",
      "5     0     0     0      0      0     0     0      0      1    0  \n",
      "\n",
      "[6 rows x 71 columns]\n"
     ]
    }
   ],
   "source": [
    "print(bag_of_words)"
   ]
  },
  {
   "cell_type": "code",
   "execution_count": 10,
   "metadata": {
    "pycharm": {
     "name": "#%%\n"
    }
   },
   "outputs": [],
   "source": [
    "# TFIDF = Term Frequency Inverse Document Frequency\n",
    "#Term Frequency is the number of times a word appears in a document\n",
    "#It's calculated using tf term which is the number of times a word appears in a piece of text divided by the total number of words\n",
    "#Inverse Document Frequency is the measure of the importance of each term in each document\n",
    "#It's calculated using idf term...the log of the total number of documents divided the number of rows that contain that specific term\n",
    "#Once calculated , common terms will have the lowest score"
   ]
  },
  {
   "cell_type": "code",
   "execution_count": 11,
   "metadata": {
    "pycharm": {
     "name": "#%%\n"
    }
   },
   "outputs": [],
   "source": [
    "from sklearn.feature_extraction.text import TfidfVectorizer"
   ]
  },
  {
   "cell_type": "code",
   "execution_count": 12,
   "metadata": {
    "pycharm": {
     "name": "#%%\n"
    }
   },
   "outputs": [],
   "source": [
    "tfidfvec = TfidfVectorizer()"
   ]
  },
  {
   "cell_type": "code",
   "execution_count": 13,
   "metadata": {
    "pycharm": {
     "name": "#%%\n"
    }
   },
   "outputs": [],
   "source": [
    "tfidfvec_fit = tfidfvec.fit_transform(data)"
   ]
  },
  {
   "cell_type": "code",
   "execution_count": 16,
   "metadata": {
    "pycharm": {
     "name": "#%%\n"
    }
   },
   "outputs": [],
   "source": [
    "tfidf_bag = pd.DataFrame(tfidfvec_fit.toarray(), columns= tfidfvec.get_feature_names_out())"
   ]
  },
  {
   "cell_type": "code",
   "execution_count": 17,
   "metadata": {
    "pycharm": {
     "name": "#%%\n"
    }
   },
   "outputs": [
    {
     "name": "stdout",
     "output_type": "stream",
     "text": [
      "         10     about  admirable     ahead       are        as   attacks  \\\n",
      "0  0.257061  0.257061   0.000000  0.000000  0.210794  0.000000  0.257061   \n",
      "1  0.000000  0.000000   0.293641  0.000000  0.000000  0.000000  0.000000   \n",
      "2  0.000000  0.000000   0.000000  0.000000  0.000000  0.292313  0.000000   \n",
      "3  0.000000  0.000000   0.000000  0.000000  0.222257  0.000000  0.000000   \n",
      "4  0.000000  0.000000   0.000000  0.290766  0.000000  0.000000  0.000000   \n",
      "5  0.000000  0.000000   0.000000  0.000000  0.000000  0.178615  0.000000   \n",
      "\n",
      "      back     bait     beach  ...      were     west     when     where  \\\n",
      "0  0.00000  0.00000  0.257061  ...  0.000000  0.00000  0.00000  0.257061   \n",
      "1  0.00000  0.00000  0.000000  ...  0.000000  0.00000  0.00000  0.000000   \n",
      "2  0.00000  0.00000  0.000000  ...  0.356474  0.00000  0.00000  0.000000   \n",
      "3  0.00000  0.00000  0.000000  ...  0.000000  0.27104  0.27104  0.000000   \n",
      "4  0.00000  0.00000  0.000000  ...  0.000000  0.00000  0.00000  0.000000   \n",
      "5  0.21782  0.21782  0.000000  ...  0.000000  0.00000  0.00000  0.000000   \n",
      "\n",
      "      which      with      work    works    worms      you  \n",
      "0  0.000000  0.000000  0.000000  0.00000  0.00000  0.00000  \n",
      "1  0.293641  0.293641  0.000000  0.00000  0.00000  0.00000  \n",
      "2  0.000000  0.000000  0.000000  0.00000  0.00000  0.00000  \n",
      "3  0.000000  0.000000  0.000000  0.27104  0.00000  0.27104  \n",
      "4  0.000000  0.000000  0.290766  0.00000  0.00000  0.00000  \n",
      "5  0.000000  0.000000  0.000000  0.00000  0.21782  0.00000  \n",
      "\n",
      "[6 rows x 71 columns]\n"
     ]
    }
   ],
   "source": [
    "print(tfidf_bag)"
   ]
  }
 ],
 "metadata": {
  "kernelspec": {
   "display_name": "Python 3 (ipykernel)",
   "language": "python",
   "name": "python3"
  },
  "language_info": {
   "codemirror_mode": {
    "name": "ipython",
    "version": 3
   },
   "file_extension": ".py",
   "mimetype": "text/x-python",
   "name": "python",
   "nbconvert_exporter": "python",
   "pygments_lexer": "ipython3",
   "version": "3.10.11"
  }
 },
 "nbformat": 4,
 "nbformat_minor": 1
}