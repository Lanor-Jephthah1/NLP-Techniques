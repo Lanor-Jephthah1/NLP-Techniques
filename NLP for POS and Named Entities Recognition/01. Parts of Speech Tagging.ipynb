{
 "cells": [
  {
   "cell_type": "code",
   "execution_count": 1,
   "metadata": {
    "pycharm": {
     "name": "#%%\n"
    },
    "scrolled": true
   },
   "outputs": [],
   "source": [
    "import re\n",
    "from nltk.corpus import stopwords\n",
    "import spacy\n",
    "import pandas as pd"
   ]
  },
  {
   "cell_type": "code",
   "execution_count": 2,
   "metadata": {
    "pycharm": {
     "name": "#%%\n"
    }
   },
   "outputs": [],
   "source": [
    "nlp = spacy.load(\"en_core_web_sm\")"
   ]
  },
  {
   "cell_type": "code",
   "execution_count": 3,
   "metadata": {
    "pycharm": {
     "name": "#%%\n"
    }
   },
   "outputs": [],
   "source": [
    "sentence = \"In recent years, integrating technology into education has transformed how students learn and teachers instruct. Digital tools and resources have facilitated a more interactive learning environment, making education more accessible and personalized. One significant change is the rise of online learning platforms, allowing students to access a wide range of courses from anywhere. This flexibility benefits non-traditional students who may have jobs or family commitments, enabling them to learn at their own pace. Technology has also led to the development of educational tools like interactive simulations and gamified learning applications, which engage students in innovative ways. These tools not only make learning enjoyable but also encourage critical thinking. Teachers benefit from technology as well. Data analytics provide insights into student performance, allowing for targeted instruction that meets individual learning needs. However, challenges remain, such as the digital divide, which can exacerbate educational inequalities. Despite these issues, the potential of technology to enhance education is undeniable. Striking a balance between utilizing advancements and ensuring equitable access is crucial for creating an effective learning environment\""
   ]
  },
  {
   "cell_type": "markdown",
   "metadata": {
    "pycharm": {
     "name": "#%% md\n"
    }
   },
   "source": [
    "## Text Preprocessing"
   ]
  },
  {
   "cell_type": "code",
   "execution_count": 4,
   "metadata": {
    "pycharm": {
     "name": "#%%\n"
    }
   },
   "outputs": [],
   "source": [
    "pattern_to_find = r\"[^\\w\\s]\"\n",
    "no_punct_string = re.sub(pattern_to_find, \" \", sentence)"
   ]
  },
  {
   "cell_type": "code",
   "execution_count": 5,
   "metadata": {
    "pycharm": {
     "name": "#%%\n"
    }
   },
   "outputs": [],
   "source": [
    "en_stopwords = set(stopwords.words(\"english\"))"
   ]
  },
  {
   "cell_type": "code",
   "execution_count": 6,
   "metadata": {
    "pycharm": {
     "name": "#%%\n"
    }
   },
   "outputs": [
    {
     "data": {
      "text/plain": [
       "'In recent years integrating technology education transformed students learn teachers instruct Digital tools resources facilitated interactive learning environment making education accessible personalized One significant change rise online learning platforms allowing students access wide range courses anywhere This flexibility benefits non traditional students may jobs family commitments enabling learn pace Technology also led development educational tools like interactive simulations gamified learning applications engage students innovative ways These tools make learning enjoyable also encourage critical thinking Teachers benefit technology well Data analytics provide insights student performance allowing targeted instruction meets individual learning needs However challenges remain digital divide exacerbate educational inequalities Despite issues potential technology enhance education undeniable Striking balance utilizing advancements ensuring equitable access crucial creating effective learning environment'"
      ]
     },
     "execution_count": 6,
     "metadata": {},
     "output_type": "execute_result"
    }
   ],
   "source": [
    "sentence_no_stopwords = \" \".join(word for word in no_punct_string.split() if word not in en_stopwords)\n",
    "sentence_no_stopwords"
   ]
  },
  {
   "cell_type": "code",
   "execution_count": 7,
   "metadata": {
    "pycharm": {
     "name": "#%%\n"
    }
   },
   "outputs": [],
   "source": [
    "# Now our text has been refined and ready to undergo the parts of speech tagging"
   ]
  },
  {
   "cell_type": "markdown",
   "metadata": {
    "pycharm": {
     "name": "#%% md\n"
    }
   },
   "source": [
    "\n",
    "## POS Tagging"
   ]
  },
  {
   "cell_type": "code",
   "execution_count": 8,
   "metadata": {
    "pycharm": {
     "name": "#%%\n"
    }
   },
   "outputs": [],
   "source": [
    "spacy_doc = nlp(sentence_no_stopwords)"
   ]
  },
  {
   "cell_type": "code",
   "execution_count": 9,
   "metadata": {
    "pycharm": {
     "name": "#%%\n"
    }
   },
   "outputs": [],
   "source": [
    "data = []"
   ]
  },
  {
   "cell_type": "code",
   "execution_count": 10,
   "metadata": {
    "pycharm": {
     "name": "#%%\n"
    }
   },
   "outputs": [],
   "source": [
    "pos_df = pd.DataFrame(columns=[\"token\", \"pos_tag\"])"
   ]
  },
  {
   "cell_type": "code",
   "execution_count": 11,
   "metadata": {
    "pycharm": {
     "name": "#%%\n"
    }
   },
   "outputs": [],
   "source": [
    "for token in spacy_doc:\n",
    "    data.append({\"token\": token.text,\n",
    "                             \"pos_tag\": token.pos_})"
   ]
  },
  {
   "cell_type": "code",
   "execution_count": 12,
   "metadata": {
    "pycharm": {
     "name": "#%%\n"
    }
   },
   "outputs": [
    {
     "name": "stdout",
     "output_type": "stream",
     "text": [
      "          token pos_tag\n",
      "0            In     ADP\n",
      "1        recent     ADJ\n",
      "2         years    NOUN\n",
      "3   integrating    VERB\n",
      "4    technology    NOUN\n",
      "5     education    NOUN\n",
      "6   transformed    VERB\n",
      "7      students    NOUN\n",
      "8         learn    VERB\n",
      "9      teachers    NOUN\n",
      "10     instruct    VERB\n",
      "11      Digital   PROPN\n",
      "12        tools    NOUN\n",
      "13    resources    NOUN\n",
      "14  facilitated    VERB\n"
     ]
    }
   ],
   "source": [
    "pos_df = pd.DataFrame(data)\n",
    "print(pos_df.head(15))"
   ]
  },
  {
   "cell_type": "code",
   "execution_count": 13,
   "metadata": {
    "pycharm": {
     "name": "#%%\n"
    }
   },
   "outputs": [],
   "source": [
    "pos_df_counts = pos_df.groupby([\"token\", \"pos_tag\"]).size().reset_index(name=\"counts\").sort_values(by=\"counts\", ascending=False)"
   ]
  },
  {
   "cell_type": "code",
   "execution_count": 18,
   "metadata": {
    "pycharm": {
     "name": "#%%\n"
    }
   },
   "outputs": [
    {
     "data": {
      "text/plain": "          token pos_tag  counts\n60     learning    NOUN       5\n85     students    NOUN       4\n33    education    NOUN       3\n88   technology    NOUN       3\n90        tools    NOUN       3\n..          ...     ...     ...\n31      digital     ADJ       1\n30  development    NOUN       1\n29      crucial     ADJ       1\n28     critical     ADJ       1\n98        years    NOUN       1\n\n[99 rows x 3 columns]",
      "text/html": "<div>\n<style scoped>\n    .dataframe tbody tr th:only-of-type {\n        vertical-align: middle;\n    }\n\n    .dataframe tbody tr th {\n        vertical-align: top;\n    }\n\n    .dataframe thead th {\n        text-align: right;\n    }\n</style>\n<table border=\"1\" class=\"dataframe\">\n  <thead>\n    <tr style=\"text-align: right;\">\n      <th></th>\n      <th>token</th>\n      <th>pos_tag</th>\n      <th>counts</th>\n    </tr>\n  </thead>\n  <tbody>\n    <tr>\n      <th>60</th>\n      <td>learning</td>\n      <td>NOUN</td>\n      <td>5</td>\n    </tr>\n    <tr>\n      <th>85</th>\n      <td>students</td>\n      <td>NOUN</td>\n      <td>4</td>\n    </tr>\n    <tr>\n      <th>33</th>\n      <td>education</td>\n      <td>NOUN</td>\n      <td>3</td>\n    </tr>\n    <tr>\n      <th>88</th>\n      <td>technology</td>\n      <td>NOUN</td>\n      <td>3</td>\n    </tr>\n    <tr>\n      <th>90</th>\n      <td>tools</td>\n      <td>NOUN</td>\n      <td>3</td>\n    </tr>\n    <tr>\n      <th>...</th>\n      <td>...</td>\n      <td>...</td>\n      <td>...</td>\n    </tr>\n    <tr>\n      <th>31</th>\n      <td>digital</td>\n      <td>ADJ</td>\n      <td>1</td>\n    </tr>\n    <tr>\n      <th>30</th>\n      <td>development</td>\n      <td>NOUN</td>\n      <td>1</td>\n    </tr>\n    <tr>\n      <th>29</th>\n      <td>crucial</td>\n      <td>ADJ</td>\n      <td>1</td>\n    </tr>\n    <tr>\n      <th>28</th>\n      <td>critical</td>\n      <td>ADJ</td>\n      <td>1</td>\n    </tr>\n    <tr>\n      <th>98</th>\n      <td>years</td>\n      <td>NOUN</td>\n      <td>1</td>\n    </tr>\n  </tbody>\n</table>\n<p>99 rows × 3 columns</p>\n</div>"
     },
     "execution_count": 18,
     "metadata": {},
     "output_type": "execute_result"
    }
   ],
   "source": [
    "pos_df_counts"
   ]
  },
  {
   "cell_type": "code",
   "execution_count": 15,
   "metadata": {
    "pycharm": {
     "name": "#%%\n"
    }
   },
   "outputs": [],
   "source": [
    "pos_df_poscounts = pos_df_counts.groupby([\"pos_tag\"])[\"token\"].count().sort_values(ascending= False)"
   ]
  },
  {
   "cell_type": "code",
   "execution_count": 16,
   "metadata": {
    "pycharm": {
     "name": "#%%\n"
    }
   },
   "outputs": [
    {
     "data": {
      "text/plain": [
       "pos_tag\n",
       "NOUN     35\n",
       "VERB     28\n",
       "ADJ      21\n",
       "PROPN     4\n",
       "ADV       3\n",
       "ADP       2\n",
       "DET       2\n",
       "AUX       1\n",
       "INTJ      1\n",
       "NUM       1\n",
       "Name: token, dtype: int64"
      ]
     },
     "execution_count": 16,
     "metadata": {},
     "output_type": "execute_result"
    }
   ],
   "source": [
    "pos_df_poscounts.head(10)"
   ]
  },
  {
   "cell_type": "code",
   "execution_count": 17,
   "metadata": {
    "pycharm": {
     "name": "#%%\n"
    }
   },
   "outputs": [
    {
     "data": {
      "text/html": [
       "<div>\n",
       "<style scoped>\n",
       "    .dataframe tbody tr th:only-of-type {\n",
       "        vertical-align: middle;\n",
       "    }\n",
       "\n",
       "    .dataframe tbody tr th {\n",
       "        vertical-align: top;\n",
       "    }\n",
       "\n",
       "    .dataframe thead th {\n",
       "        text-align: right;\n",
       "    }\n",
       "</style>\n",
       "<table border=\"1\" class=\"dataframe\">\n",
       "  <thead>\n",
       "    <tr style=\"text-align: right;\">\n",
       "      <th></th>\n",
       "      <th>token</th>\n",
       "      <th>pos_tag</th>\n",
       "      <th>counts</th>\n",
       "    </tr>\n",
       "  </thead>\n",
       "  <tbody>\n",
       "    <tr>\n",
       "      <th>60</th>\n",
       "      <td>learning</td>\n",
       "      <td>NOUN</td>\n",
       "      <td>5</td>\n",
       "    </tr>\n",
       "    <tr>\n",
       "      <th>85</th>\n",
       "      <td>students</td>\n",
       "      <td>NOUN</td>\n",
       "      <td>4</td>\n",
       "    </tr>\n",
       "    <tr>\n",
       "      <th>33</th>\n",
       "      <td>education</td>\n",
       "      <td>NOUN</td>\n",
       "      <td>3</td>\n",
       "    </tr>\n",
       "    <tr>\n",
       "      <th>88</th>\n",
       "      <td>technology</td>\n",
       "      <td>NOUN</td>\n",
       "      <td>3</td>\n",
       "    </tr>\n",
       "    <tr>\n",
       "      <th>90</th>\n",
       "      <td>tools</td>\n",
       "      <td>NOUN</td>\n",
       "      <td>3</td>\n",
       "    </tr>\n",
       "    <tr>\n",
       "      <th>42</th>\n",
       "      <td>environment</td>\n",
       "      <td>NOUN</td>\n",
       "      <td>2</td>\n",
       "    </tr>\n",
       "    <tr>\n",
       "      <th>72</th>\n",
       "      <td>performance</td>\n",
       "      <td>NOUN</td>\n",
       "      <td>1</td>\n",
       "    </tr>\n",
       "    <tr>\n",
       "      <th>57</th>\n",
       "      <td>issues</td>\n",
       "      <td>NOUN</td>\n",
       "      <td>1</td>\n",
       "    </tr>\n",
       "    <tr>\n",
       "      <th>54</th>\n",
       "      <td>instruction</td>\n",
       "      <td>NOUN</td>\n",
       "      <td>1</td>\n",
       "    </tr>\n",
       "    <tr>\n",
       "      <th>71</th>\n",
       "      <td>pace</td>\n",
       "      <td>NOUN</td>\n",
       "      <td>1</td>\n",
       "    </tr>\n",
       "  </tbody>\n",
       "</table>\n",
       "</div>"
      ],
      "text/plain": [
       "          token pos_tag  counts\n",
       "60     learning    NOUN       5\n",
       "85     students    NOUN       4\n",
       "33    education    NOUN       3\n",
       "88   technology    NOUN       3\n",
       "90        tools    NOUN       3\n",
       "42  environment    NOUN       2\n",
       "72  performance    NOUN       1\n",
       "57       issues    NOUN       1\n",
       "54  instruction    NOUN       1\n",
       "71         pace    NOUN       1"
      ]
     },
     "execution_count": 17,
     "metadata": {},
     "output_type": "execute_result"
    }
   ],
   "source": [
    "nouns = pos_df_counts[pos_df_counts.pos_tag == \"NOUN\"][:10]\n",
    "nouns"
   ]
  }
 ],
 "metadata": {
  "kernelspec": {
   "display_name": "Python 3 (ipykernel)",
   "language": "python",
   "name": "python3"
  },
  "language_info": {
   "codemirror_mode": {
    "name": "ipython",
    "version": 3
   },
   "file_extension": ".py",
   "mimetype": "text/x-python",
   "name": "python",
   "nbconvert_exporter": "python",
   "pygments_lexer": "ipython3",
   "version": "3.10.11"
  }
 },
 "nbformat": 4,
 "nbformat_minor": 1
}